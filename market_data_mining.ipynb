{
 "cells": [
  {
   "cell_type": "markdown",
   "metadata": {},
   "source": [
    "<h1 align=\"center\"> Market Data Mining <h1>\n",
    "\n",
    "\n",
    "## Data:\n",
    "\n",
    "Full historical daily price and volume data for all US-based stocks and ETFs trading on the NYSE, NASDAQ, and NYSE MKT. It's one of the best datasets of its kind you can obtain.\n",
    "\n",
    "The data (last updated 11/10/2017) is presented in CSV format as follows: Date, Open, High, Low, Close, Volume, OpenInt. Note that prices have been adjusted for dividends and splits.\n",
    "\n",
    "## Table of Contents\n",
    "\n",
    "1. Introduction\n",
    "2. Exploratory Analysis\n",
    "3. Predictive Modeling\n",
    "4. Conclusion\n"
   ]
  },
  {
   "cell_type": "code",
   "execution_count": null,
   "metadata": {},
   "outputs": [],
   "source": [
    "import pandas as pd\n",
    "import numpy as np\n",
    "import matplotlib.pyplot as plt\n",
    "import seaborn as sns\n",
    "\n",
    "from glob import glob\n",
    "\n",
    "import os\n",
    "\n",
    "%matplotlib inline"
   ]
  },
  {
   "cell_type": "code",
   "execution_count": null,
   "metadata": {
    "scrolled": true
   },
   "outputs": [],
   "source": [
    "etf_fnames = glob(\"./ETfs/*\")\n",
    "stock_fnames = glob(\"./Stocks/*\")\n",
    "#fnames_10 = np.random.choice(fnames, 10)\n",
    "\n",
    "\n",
    "def get_df(fnames):\n",
    "    \n",
    "    df = []\n",
    "    empty_fnames = []\n",
    "    \n",
    "    for fname in fnames[:1]:\n",
    "        try:\n",
    "            temp = pd.read_csv(fname)\n",
    "            # create 'label' column - name of companies\n",
    "            temp['label'] = fname.split('/')[2].split('.')[0]\n",
    "            df.append(temp)\n",
    "            \n",
    "        except:\n",
    "            # some files are empty... error?\n",
    "            print('exception: {} deleted'.format(fname))\n",
    "            empty_fnames.append(fname)\n",
    "            os.remove(fname)\n",
    "            \n",
    "    print('{} files out of {} files are empty!'.format(len(empty_fnames), len(fnames)))\n",
    "    \n",
    "    return pd.concat(df)\n",
    "        \n",
    "stock_df = get_df(stock_fnames)\n",
    "etf_df = get_df(etf_fnames)"
   ]
  },
  {
   "cell_type": "code",
   "execution_count": null,
   "metadata": {
    "scrolled": true
   },
   "outputs": [],
   "source": [
    "# How many time points for each label?\n",
    "label_enough_points = stock_df['label'].unique()\\\n",
    "[stock_df.groupby('label').size()>stock_df.groupby('label').size().mean()]\n",
    "\n",
    "# Get those with more than mean counts\n",
    "stock_df = stock_df.loc[df.iloc['label'].apply(lambda x: x in label_enough_points), :]"
   ]
  },
  {
   "cell_type": "code",
   "execution_count": null,
   "metadata": {},
   "outputs": [],
   "source": [
    "stock_df['Date'] = pd.to_datetime('Date')\n",
    "stock_df.set_index('Date')"
   ]
  }
 ],
 "metadata": {
  "kernelspec": {
   "display_name": "Python 3",
   "language": "python",
   "name": "python3"
  },
  "language_info": {
   "codemirror_mode": {
    "name": "ipython",
    "version": 3
   },
   "file_extension": ".py",
   "mimetype": "text/x-python",
   "name": "python",
   "nbconvert_exporter": "python",
   "pygments_lexer": "ipython3",
   "version": "3.6.4"
  }
 },
 "nbformat": 4,
 "nbformat_minor": 2
}
